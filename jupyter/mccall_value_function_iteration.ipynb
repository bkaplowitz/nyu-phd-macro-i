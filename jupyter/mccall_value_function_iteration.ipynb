{
  "nbformat": 4,
  "nbformat_minor": 5,
  "metadata": {
    "kernelspec": {
      "display_name": "Python 3",
      "language": "python",
      "name": "python3"
    },
    "language_info": {
      "codemirror_mode": {
        "name": "ipython",
        "version": 3
      },
      "file_extension": ".py",
      "mimetype": "text/x-python",
      "name": "python",
      "nbconvert_exporter": "python",
      "pygments_lexer": "ipython3",
      "version": "3.8.8"
    },
    "colab": {
      "name": "mccall_value_function_iteration.ipynb",
      "provenance": [],
      "include_colab_link": true
    }
  },
  "cells": [
    {
      "cell_type": "markdown",
      "metadata": {
        "id": "view-in-github",
        "colab_type": "text"
      },
      "source": [
        "<a href=\"https://colab.research.google.com/github/bkaplowitz/nyu-phd-macro-i/blob/main/jupyter/mccall_value_function_iteration.ipynb\" target=\"_parent\"><img src=\"https://colab.research.google.com/assets/colab-badge.svg\" alt=\"Open In Colab\"/></a>"
      ]
    },
    {
      "cell_type": "markdown",
      "metadata": {
        "id": "f822e532"
      },
      "source": [
        "# Value function iteration in the McCall (1970) model\n",
        "\n",
        "<b>This notebook is based on Sections 22-24 from the <a href=\"https://python.quantecon.org/\">Quantitative Economics with Python</a> lecture.</b> <i>The code in this notebook is simplified and abstracts from classes or just-in-time compiling for transparency reasons. The QuantEcon lectures provide further instructions how to accelerate the code, and utilize the Python functionality in much more depth.</i>\n",
        "\n",
        "We study the problem of a worker who receives wage offers $w$ drawn from a distribution $F(w)$. Denote $V(w)$ the value of an unemployed worker with offer $w$ at hand. Then $V$ satisfies the Bellman equation\n",
        "\n",
        "$$V\\left( w\\right) =\\max_{\\left\\{ \\text{accept, reject}\\right\\} }\\left\\{\n",
        "\\frac{w}{1-\\beta} ,c+\\beta \\int_{0}^{B}V\\left( w^{\\prime }\\right)\n",
        "dF\\left( w^{\\prime }\\right) \\right\\} .$$\n",
        "\n",
        "This can be succintly written as the fixed-point equation $V=TV$ where $T$ is the Bellman operator defined as\n",
        "\n",
        "$$(Th)\\left( w\\right) =\\max_{\\left\\{ \\text{accept, reject}\\right\\} }\\left\\{\n",
        "\\frac{w}{1-\\beta} ,c+\\beta \\int_{0}^{B}h\\left( w^{\\prime }\\right)\n",
        "dF\\left( w^{\\prime }\\right) \\right\\} .$$\n",
        "\n",
        "Implementing the problem on a computer requires several considerations.\n",
        "\n",
        "<ol>\n",
        "    <li>We need to evaluate the integral on the right-hand side of the Bellman equation. When the distribution of offers is discrete with finitely many mass points, then the integral can be replaced with a finite sum, otherwise we need to rely on an approximation.</li>\n",
        "    <li>We need to replace the function $V$ defined on the interval $[0,B]$ with a its approximation defined on a finite grid of nodes. Again, if the distribution of offers is discrete with finitely many mass points, then these mass points can serve as the nodes, since no other offers can be made anyway.</li>\n",
        "    <li>We need to provide an argument that the method will converge to the correct unique solution. In our case, this is guaranteed by the Banach fixed point theorem, which can be invoked for our problem.</li>\n",
        "</ol>\n",
        "\n",
        "## The algorithm\n",
        "\n",
        "The <b>value function iteration</b> algorithm is given by the following scheme.\n",
        "\n",
        "<ol>\n",
        "    <li>Pick an initial guess for the value function, denoted $V_0$.</li>\n",
        "    <li>Given the $n$-th iteration guess $V_n$, update it as\n",
        "    \\begin{equation}\n",
        "        V_{n+1}\\left( w\\right) =\\max_{\\left\\{ \\text{accept, reject}\\right\\} }\\left\\{\n",
        "        \\frac{w}{1-\\beta} ,c+\\beta \\int_{0}^{B}V_n\\left( w^{\\prime }\\right)\n",
        "        dF\\left( w^{\\prime }\\right) \\right\\}.\n",
        "    \\end{equation}\n",
        "    </li>\n",
        "    <li>Repeat step 2 until $|V_{n+1}-V_n|$ falls below a given precision threshold. Typically we want $\\max_{w} |V_{n+1}(w)-V_{n}(w)|<tol$ . \n",
        "    </li>\n",
        "</ol>\n",
        "\n",
        "As mentioned above, an application of the <b>Banach fixed point theorem</b> can be used here to argue that the iterations $V_{n+1} = TV_n$ converge to the fixed point $V$.\n",
        "\n",
        "## Association with a finite-horizon problem\n",
        "\n",
        "Notice the similarity of the value function iteration algorithm with the following finite-horizon problem. Time during which offers arrive is finite, $t=0,1,\\ldots,T$. Every period, the worker receives an iid offer drawn from $F(w)$. If the worker accepts, then she stays employed forever (until $t=\\infty$) at wage $w$. As long as she stays unemployed, she receives unemployment benefits $c$. If the worker does not accept any offer until the end of period $T$, then time ends, and she receives no further payments. We denote the value function at the beginning of period $t$ (until offer $w_t$ is made) as $\\tilde{V}_t(w)$.\n",
        "\n",
        "<i>This unusual assumption under which employment lasts forever even though otherwise time ends at $T$ is made to exactly mimic the value function iteration algorithm above. We will modify it in other examples.</i>\n",
        "\n",
        "In this model, the initial guess $V_0(w)=0$ in the value function iteration corresponds to $\\tilde{V}_{T+1}(w)$, i.e., the value of staying unemployed at the end of $T$. Subsequently, the iterations reveal that\n",
        "\n",
        "$$ \\tilde{V}_{T+1-n}(w) = V_n(w).$$\n",
        "\n",
        "The value function iteration algorithm thus effectively implements a solution algorithm for finite horizon problems known as <b>backward induction</b>."
      ],
      "id": "f822e532"
    },
    {
      "cell_type": "markdown",
      "metadata": {
        "id": "cf0dc531"
      },
      "source": [
        "## Numerical approximation\n",
        "\n",
        "### Discrete distribution of wage offers\n",
        "\n",
        "When the distribution of offers is discrete with finitely many mass points at $\\{w^k\\}_{k=0}^K \\in [0,B]$, with probability mass $\\{f^k\\}$. Then the value function reduces to a finite-dimensional vector $V$, and a numerical computation can be implemented on a grid.\n",
        "\n",
        "Denote $V^k \\doteq V(w^k)$. We can then write the Bellman equation as\n",
        "\n",
        "$$V^k =\\max_{\\left\\{ \\text{accept, reject}\\right\\} }\\left\\{\n",
        "\\frac{w}{1-\\beta} ,c+\\beta \\sum_{k'=0}^{K}V^{k'}f^{k'} \\right\\} ,$$\n",
        "\n",
        "where the sum evaluates the expectation of the next-period value function. Given that this finite-point grid representation does not involve any approximation, the computer can recover the solution that is exact up to the accuracy of the floating-point algebra.\n",
        "\n",
        "### Approximation of the value function in the case of a continuous wage distribution\n",
        "\n",
        "When the wage distribution is continuous, an exact representation of the value function on the computer is generally not possible. Instead, one idea is to represent the function, originally defined on the continuous interval $[0,B]$, on a discrete set of nodes $0 = w^0 < w^1 < \\ldots < w^K = B$, and use interpolation to approximate the values of the function in between the grid points. (In python this would be done via `interpolation.py` library or `interp1d/interpn` from SciPy. For Matlab it would be `interp1/interpn`.  Similarly, we need to approximate the distribution function for the wage offers.\n",
        "\n",
        "One simple possibility is to first approximate the distribution function $F(w)$ with probability mass points $\\{\\hat{f}^k\\}_{k=0}^K$. This yields the fixed point equation\n",
        "\n",
        "$$\\hat{V}^k =\\max_{\\left\\{ \\text{accept, reject}\\right\\} }\\left\\{\n",
        "\\frac{w}{1-\\beta} ,c+\\beta \\sum_{k'=0}^{K}\\hat{V}^{k'}f^{k'} \\right\\}.$$\n",
        "\n",
        "The Bellman equation involves $\\hat{V}$ to acknowledge that this is an approximation of the true value function $V$.\n",
        "\n",
        "There is a variety of methods how to construct $\\hat{f}^k$ from $F(w)$. For example, we can define an equidistant grid for $w^k$ and use the midpoint rule\n",
        "\n",
        "\\begin{equation*}\n",
        "\\hat{f}^{k}=\\left\\{\n",
        "\\begin{array}{cc}\n",
        "\\displaystyle F\\left( \\frac{1}{2}\\left( w^{1}+w^{0}\\right) \\right) & k=0 \\\\\n",
        "\\displaystyle F\\left( \\frac{1}{2}\\left( w^{k+1}+w^{k}\\right) \\right)\n",
        "-F\\left( \\frac{1}{2}\\left( w^{k}+w^{k-1}\\right) \\right) & 0<k<K \\\\\n",
        "\\displaystyle1-F\\left( \\frac{1}{2}\\left( w^{K}+w^{K-1}\\right) \\right) & k=K%\n",
        "\\end{array}%\n",
        "\\right.\n",
        "\\end{equation*}\n",
        "\n",
        "Observe that this approach uses a common grid for the discretization of the value function and for the computation of the expectation of the next-period continuation value. Therefore, it requires constructing the discretized probability distribution at the beginning of the iteration, and no interpolation of the value function. Once we obtain the fixed point $\\hat{V}$ on the grid, we can set $V(w^k) = \\hat{V}^k$ on the grid, and use interpolation to obtain $V(w)$ in between the grid points.\n",
        "\n",
        "### Evaluation of the expectations operator\n",
        "\n",
        "While the above approach is convenient, it may often be desirable to keep the grid for the state variable $\\{w^k\\}_{k=0}^K$ sparse, while constructing a more accurate approximation of the expectation\n",
        "\n",
        "$$\\int_{0}^{B}V\\left( w^{\\prime }\\right)dF\\left( w^{\\prime }\\right).$$\n",
        "\n",
        "We therefore want to compute a separate grid $\\{\\tilde{w}^j\\}_{j=0}^J$. One possibility is to use again the midpoint rule as above on an equidistant grid, there are more efficient methods that yield higher accuracy for specific distributions and classes of functions that are being integrated.\n",
        "\n",
        "#### Gaussian quadrature\n",
        "\n",
        "One such method is <a href=\"https://en.wikipedia.org/wiki/Gaussian_quadrature\">Gaussian quadrature</a>, which determines the vector of $J$ nodes $\\{\\tilde{w}^j\\}_{j=0}^J$ and $J$ weights $\\{\\tilde{f}^j\\}_{j=0}^J$, such that the finite-node approximation exactly integrates polynomial functions of degree up to $2J-1$ under a given distribution. For example, the <a href=\"https://en.wikipedia.org/wiki/Gauss%E2%80%93Hermite_quadrature\">Gauss--Hermite rule</a> applies for the case when the underlying distribution is Normal.\n",
        "\n",
        "We then construct\n",
        "\n",
        "$$\\int_{0}^{B}V\\left( w^{\\prime }\\right)dF\\left( w^{\\prime }\\right) \\approx \\sum_{j=0}^{J}V(\\tilde{w}^j)\\tilde{f}^{j\n",
        "}.$$\n",
        "\n",
        "Notice that the values $V(\\tilde{w}^j)$ do not lie on the grid for the value function $\\{w^k\\}_{k=0}^K$, so they need to be interpolated. Fortunately, software like Matlab and Python does this job for you. See <a href=\"https://python.quantecon.org/mccall_fitted_vfi.html\">Section 24</a> in Quantitative Economics with Python for more detail.\n",
        "\n",
        "#### Monte Carlo simulation\n",
        "\n",
        "An alternative to quadrature is to approximate the expectations operator using a simple Monte Carlo simulation. This approach is based on the Central Limit Theorem. In particular, the empirical distribution of a large sample of independent draws from a particular random variable converges to the theoretical distribution. Therefore, draw a large number of draws $\\{\\tilde{w}^d\\}_{d=1}^D$ from $F(w)$ and approximate\n",
        "\n",
        "$$\\int_{0}^{B}V\\left( w^{\\prime }\\right)dF\\left( w^{\\prime }\\right) = E[w] \\approx \\frac{1}{D}\\sum_{d=1}^{D}V(\\tilde{w}^d).$$\n",
        "\n",
        "Notice the absence of the density function in the sum, the random number generator already accounts for the proper weighting of the draws. Again, since $\\tilde{w}^d$ will typically not lie on the grid for the value function, the values $V(\\tilde{w}^d)$ need to be interpolated."
      ],
      "id": "cf0dc531"
    },
    {
      "cell_type": "markdown",
      "metadata": {
        "id": "3da890b0"
      },
      "source": [
        "## Implementation\n",
        "\n",
        "We first need to import libraries required for some specialized tasks. The first line assures that plots are rendered in the current notebook."
      ],
      "id": "3da890b0"
    },
    {
      "cell_type": "code",
      "metadata": {
        "id": "ca972c93"
      },
      "source": [
        "%matplotlib inline                       \n",
        "import numpy as np                       # import library for numerical operations\n",
        "import scipy.stats as sp                 # import library that includes probability distributions\n",
        "import matplotlib.pyplot as plt          # import library for drawing\n",
        "plt.rcParams['figure.figsize'] = (10,6)  # define size of the plots"
      ],
      "id": "ca972c93",
      "execution_count": 5,
      "outputs": []
    },
    {
      "cell_type": "markdown",
      "metadata": {
        "id": "e888b4df"
      },
      "source": [
        "We now want to write a function that takes as input the parameters of the model, the grid on which we approximate the value function, and the initial guess $V_0$, and produces as output the fixed point $V$, the reservation wage $\\bar{w}$, and a couple of iterates $V_0$, $V_1$, $V_2$, $\\ldots$.\n",
        "\n",
        "First define the grid and the wage offer distribution. We use the discrete BetaBinomial distribution with parameters $n$, $a$, $b$ that give substantial flexibility to its shape. You can look up the details on <a href=\"https://en.wikipedia.org/wiki/Beta-binomial_distribution\">Wikipedia</a>. A random variable $X$ with this distribution has realizations from the set $\\{0,1,2,\\ldots,n\\}$ and first two moments\n",
        "\n",
        "$$E[X;n,a,b] = n\\frac{a}{a+b},\\qquad Var[X;n,a,b]= n (a+b+n)\\frac{ab}{(a+b)^2(a+b+1)}. $$\n",
        "\n",
        "Since we are interested in draws on the interval $[0,B]$, we rescale and define $w = X *(B/n)$. The wage draws will then be from a discrete grid $0,B/n,2B/n,\\ldots,B$. The mean and variance of the random variable $w$ with this distribution are then given by\n",
        "\n",
        "$$E[w;n,a,b,B] = B\\frac{a}{a+b},\\qquad Var[w;n,a,b,B]= B^2 \\frac{a+b+n}{n}\\frac{ab}{(a+b)^2(a+b+1)}. $$"
      ],
      "id": "e888b4df"
    },
    {
      "cell_type": "code",
      "metadata": {
        "id": "a935ddc6",
        "colab": {
          "base_uri": "https://localhost:8080/",
          "height": 390
        },
        "outputId": "4c863433-b955-4db6-8859-35941a765fc5"
      },
      "source": [
        "# define the wage offer distribution\n",
        "B = 1                                         # maximum wage offer\n",
        "n = 100                                       # number of grid points\n",
        "w_grid = np.linspace(0,B,n+1)\n",
        "a, b = 3,5                                   # parameters of the BetaBinomial distribution\n",
        "f = sp.betabinom(n,a,b)                       # BetaBinomial distribution object\n",
        "f_grid = f.pmf(np.arange(0,n+1))              # probability mass function\n",
        "F_grid = f.cdf(np.arange(0,n+1))              # cumulative distribution function\n",
        "\n",
        "# plot the wage offer distribution\n",
        "fig, ax = plt.subplots()                                   # define plot\n",
        "ax.plot(w_grid, f_grid, '-o', label='$f(w)$')              # plot the probability mass function\n",
        "ax.set(xlabel='wage $w$',ylabel='probability mass $f(w)$') # describe axes\n",
        "ax.legend()                                                # include legend\n",
        "plt.show()                                                 # publish graph"
      ],
      "id": "a935ddc6",
      "execution_count": 6,
      "outputs": [
        {
          "output_type": "display_data",
          "data": {
            "image/png": "[encoded data removed]",
            "text/plain": [
              "<Figure size 720x432 with 1 Axes>"
            ]
          },
          "metadata": {
            "needs_background": "light"
          }
        }
      ]
    },
    {
      "cell_type": "markdown",
      "metadata": {
        "id": "bd427214"
      },
      "source": [
        "Next define the function that solves the Bellman equation."
      ],
      "id": "bd427214"
    },
    {
      "cell_type": "code",
      "metadata": {
        "id": "0874d6b2"
      },
      "source": [
        "def mccall_model(w_grid,V0,f,c,β,num_iter=5,err_tol=1e-10,max_iter = 10000):\n",
        "    # solves the McCall model on a given grid, initial guess V0,\n",
        "    # discrete density of the wage offer distribution f defined on the grid,\n",
        "    # unemployment compensation c, and time preference parameter β\n",
        "    # store first num_iter of the value function iterations, and iterate until precision is reached or\n",
        "    # max_iter is reached\n",
        "    \n",
        "    V_iter = np.zeros(len(w_grid)*num_iter)   # define the matrix that stores first num_iter iterates\n",
        "    V_iter.shape=(len(w_grid),num_iter)\n",
        "    V = np.zeros(len(w_grid))                 # define the vector for the value function\n",
        "    \n",
        "    V_a = w_grid/(1-β)                        # value of accepting\n",
        "    V_next = np.empty_like(V_a)               # define an empty vector for the next iterate\n",
        "    V_cur = V0                                # current iterate\n",
        "    i = 0\n",
        "    err = err_tol + 1\n",
        "    while i < max_iter and err > err_tol:     # iterate until tolerance or maximum iterations are reached\n",
        "        Q = c+β*sum(V_cur*f)                  # value of rejecting the offer\n",
        "        V_next = np.maximum(V_a,Q)            # optimal current period decision\n",
        "    \n",
        "        if i < num_iter:                      # store first num_iter iterates\n",
        "            V_iter[:,i]=V_cur\n",
        "\n",
        "        err = np.max(np.abs(V_next-V_cur))    # compute distance between V_cur and V_next\n",
        "        V_cur[:] = V_next\n",
        "        i = i + 1\n",
        "        \n",
        "    V[:] = V_next                             # store fixed point\n",
        "    wbar = (1-β)*Q                            # store reservation wage\n",
        "    return V,wbar,V_iter"
      ],
      "id": "0874d6b2",
      "execution_count": 7,
      "outputs": []
    },
    {
      "cell_type": "markdown",
      "metadata": {
        "id": "8E6X11-m734R"
      },
      "source": [
        "Note that here we never used interpolation at any step in the procedure. Why? "
      ],
      "id": "8E6X11-m734R"
    },
    {
      "cell_type": "markdown",
      "metadata": {
        "id": "93f37559"
      },
      "source": [
        "With this function defined, we can call it$\\ldots$"
      ],
      "id": "93f37559"
    },
    {
      "cell_type": "code",
      "metadata": {
        "id": "5dd3d2f1"
      },
      "source": [
        "# structural parameters of the model\n",
        "c = 0.4 * B*a/(a+b)                    # unemployment benefits equal 40% of average wage\n",
        "β = 0.98                               # time preference\n",
        "# other parameters for computation\n",
        "err_tol = 1e-10\n",
        "num_iter = 6\n",
        "# initial guess\n",
        "V0 = np.zeros(n+1)\n",
        "\n",
        "# run value function iteration\n",
        "V,wbar,V_iter = mccall_model(w_grid=w_grid,V0=V0,f=f_grid,c=c,β=β,num_iter=num_iter,err_tol=err_tol)"
      ],
      "id": "5dd3d2f1",
      "execution_count": 8,
      "outputs": []
    },
    {
      "cell_type": "markdown",
      "metadata": {
        "id": "7448cd39"
      },
      "source": [
        "$\\dots$ and produce a plot of the value function."
      ],
      "id": "7448cd39"
    },
    {
      "cell_type": "code",
      "metadata": {
        "id": "86f92f33",
        "colab": {
          "base_uri": "https://localhost:8080/",
          "height": 407
        },
        "outputId": "e1b03972-7a71-4055-a719-99347278dbac"
      },
      "source": [
        "fig, ax = plt.subplots()                          # define plot\n",
        "for i in range(num_iter):                         # plot iterates\n",
        "    ax.plot(w_grid,V_iter[:,i], label=f'$V_{i}$')\n",
        "\n",
        "ax.plot(w_grid,V, 'k',label=f'$V$',linewidth=3)   # plot fixed point\n",
        "ax.set(xlabel='wage $w$',ylabel='value')          # describe axes\n",
        "ax.legend(loc='lower right')                      # display legend\n",
        "plt.show()                                        # show plot\n",
        "print(f'Reservation wage {wbar}.')"
      ],
      "id": "86f92f33",
      "execution_count": 9,
      "outputs": [
        {
          "output_type": "display_data",
          "data": {
            "image/png": "[encoded data removed]",
            "text/plain": [
              "<Figure size 720x432 with 1 Axes>"
            ]
          },
          "metadata": {
            "needs_background": "light"
          }
        },
        {
          "output_type": "stream",
          "name": "stdout",
          "text": [
            "Reservation wage 0.5950616387771832.\n"
          ]
        }
      ]
    },
    {
      "cell_type": "markdown",
      "metadata": {
        "id": "LpWa9wcv7Toj"
      },
      "source": [
        ""
      ],
      "id": "LpWa9wcv7Toj"
    },
    {
      "cell_type": "markdown",
      "metadata": {
        "id": "d3808683"
      },
      "source": [
        "## Characterization of the solution\n",
        "\n",
        "The plot above displays a couple of first iterates $V_n(w)$ and then the value function $V(w)$. We imposed $V_0(w) = 0$, and the sequence of value function iterates $V_n$ is increasing. Consequently, the sequence of the reservation wage iterates is increasing as well.\n",
        "\n",
        "As an alternative, try adding ${B/(1-\\beta)}$ to the initial guess ${V0}$ above, and observe how the sequence of value function iterates evolves now."
      ],
      "id": "d3808683"
    },
    {
      "cell_type": "markdown",
      "metadata": {
        "id": "006a333c"
      },
      "source": [
        "## Comparative statics\n",
        "\n",
        "We can now run the function repeatedly in order to produce comparative statics for the reservation wage. In particular, we are interested in comparative statics in the time-preference parameter and in the mean-preserving spread of the wage offer distribution, modeled as increases in the variance of the wage offer distribution, holding the mean of the wage offer distribution unchanged.\n",
        "\n",
        "We choose a grid of values for $\\beta$. As for the mean-preserving spread, we notice that scaling the wage offer distribution parameters $a,b$ by the same factor $s$ leaves $E[w]$ unchanged but scales the variance. In particular,\n",
        "\n",
        "$$E[w;n,sa,sb,B] = E[w;n,a,b,B]$$\n",
        "\n",
        "and\n",
        "\n",
        "$$Var[w;n,sa,sb,B] = \\frac{s(a+b)+n}{a+b+n}\\frac{a+b+1}{s(a+b)+1} Var[w;n,a,b,B].$$\n",
        "\n",
        "Hence we choose a grid for $s$, and then for every value of $s$, we compute the variance of the wage offer distribution. Then, for every pair of $\\beta$ and $s$, we resolve the model and record the reservation wage."
      ],
      "id": "006a333c"
    },
    {
      "cell_type": "code",
      "metadata": {
        "id": "6152caf0"
      },
      "source": [
        "β_grid_size = 20\n",
        "s_grid_size = 30\n",
        "wbar_grid = np.empty((β_grid_size,s_grid_size))   # array to store recorded wbar values\n",
        "\n",
        "a, b = 0.3, 0.5\n",
        "β_vals = np.linspace(0.9,0.99,β_grid_size)        # grid for time preference parameter values\n",
        "s_vals = np.logspace(0,2,s_grid_size)             # grid for scaling factor values, then recalculate to variances\n",
        "var_vals = B**2 * (s_vals*(a+b)+n)/n * (a*b)/(a+b)**2/(s_vals*(a+b)+1)\n",
        "\n",
        "for j,s in enumerate(s_vals):\n",
        "    f = sp.betabinom(n,s*a,s*b)                   # BetaBinomial distribution object for every new s from the grid\n",
        "    f_grid = f.pmf(np.arange(0,n+1))              # probability mass function\n",
        "    for i,β in enumerate(β_vals):\n",
        "        # resolve the McCall model and record the reservation wage\n",
        "        V,wbar,V_iter = mccall_model(w_grid=w_grid,V0=V0,f=f_grid,c=c,β=β,num_iter=0,err_tol=err_tol)\n",
        "        wbar_grid[i,j] = wbar"
      ],
      "id": "6152caf0",
      "execution_count": 10,
      "outputs": []
    },
    {
      "cell_type": "markdown",
      "metadata": {
        "id": "48834b50"
      },
      "source": [
        "Finally, plot the calculated values into a fancy contour plot. As expected from the theoretical analysis, the reservation wage increases with the time preference parameter $\\beta$, and also increases with the variance of the wage offer distribution."
      ],
      "id": "48834b50"
    },
    {
      "cell_type": "code",
      "metadata": {
        "id": "dfb7619b",
        "colab": {
          "base_uri": "https://localhost:8080/",
          "height": 411
        },
        "outputId": "09a72f35-7d92-432b-d0c5-d55a3c5dfce9"
      },
      "source": [
        "fig, ax = plt.subplots()                                     # define plot\n",
        "\n",
        "cs1 = ax.contourf(var_vals, β_vals, wbar_grid, alpha=0.75)   # draw color gradient\n",
        "ctr1 = ax.contour(var_vals, β_vals, wbar_grid)               # draw contours\n",
        "\n",
        "plt.clabel(ctr1, inline=1, fontsize=13)                      # add values into the contour lines\n",
        "plt.colorbar(cs1, ax=ax)                                     # add a 'temperature' bar with the color gradient\n",
        "\n",
        "ax.set_title('reservation wage')                             # add title and describe axes\n",
        "ax.set_xlabel(\"$Var[w]$\", fontsize=16)\n",
        "ax.set_ylabel(\"$β$\", fontsize=16)\n",
        "\n",
        "plt.show()                                                   # display graph"
      ],
      "id": "dfb7619b",
      "execution_count": 11,
      "outputs": [
        {
          "output_type": "display_data",
          "data": {
            "image/png": "[encoded data removed]",
            "text/plain": [
              "<Figure size 720x432 with 2 Axes>"
            ]
          },
          "metadata": {
            "needs_background": "light"
          }
        }
      ]
    },
    {
      "cell_type": "markdown",
      "metadata": {
        "id": "xBTZ5WSF9960"
      },
      "source": [
        "## Extensions to Value Function Iteration\n",
        "Value function iteration is a pretty flexible framework. Consider the following problem and can be used to solve several 'intractible' problems by changing the state. This comes down to 'finding the state is an art'.\n",
        "\n",
        "We use the same environment from section 22 of QuantEcon to start.\n",
        "\n",
        "Here, we wonder if we really need to evaluate the value function at each iteration. The answer turns out to be no by a clever manipulation of the problem.\n",
        "\n",
        "Let us define $h$ the **continuation value** as:\n",
        "\n",
        "$$\n",
        "h\n",
        "\\doteq c + \\beta\n",
        "    \\sum_{s'} v^*(s') q (s')\n",
        "$$\n",
        "We can then rewrite the problem from before: \n",
        "\n",
        "$$V\\left( w\\right) =\\max_{\\left\\{ \\text{accept, reject}\\right\\} }\\left\\{\n",
        "\\frac{w}{1-\\beta} ,c+\\beta \\int_{0}^{B}V\\left( w^{\\prime }\\right)\n",
        "dF\\left( w^{\\prime }\\right) \\right\\} .$$\n",
        "\n",
        "as \n",
        "$$ \n",
        "v^*(s')\n",
        "= \\max \\left\\{ \\frac{w(s')}{1 - \\beta}, \\, h \\right\\}\n",
        "$$\n",
        "\n",
        "Plugging this into the definition of $h$ we get: \n",
        "\n",
        "$$\n",
        "h\n",
        "= c + \\beta\n",
        "    \\sum_{s'}\n",
        "    \\max \\left\\{\n",
        "        \\frac{w(s')}{1 - \\beta}, h\n",
        "    \\right\\}  q (s')\n",
        "$$\n",
        "\n",
        "Now note that this is a nonlinear equation where we just need to solve for continuation value $h$. Remember that fundamentally what we care about is solving for the reservation wage and that \n",
        "$$\n",
        "\\bar{w}=(1-\\beta)h\n",
        "$$ \n",
        "so if we find $h$ we are done without computing the value function.\n"
      ],
      "id": "xBTZ5WSF9960"
    },
    {
      "cell_type": "markdown",
      "metadata": {
        "id": "MCz97owFCkE8"
      },
      "source": [
        "The VFI algorithm is now as follows:\n",
        "\n",
        "1. Pick an initial guess $h$\n",
        "2. Update $h_{n}$ to $h_{n+1}$ via backwards induction on the Bellman equation.\n",
        "3. Iterate until convergence when $|h_{n+1}-h_{n}|<tol$ \n",
        "\n",
        "Again by the contraction mapping theorem, we can show that this process will always converge to a unique $h^{*}$. Note that now, we don't need a grid, as we are iterating on a single number rather than a vector.\n",
        "\n",
        "We implement this below. "
      ],
      "id": "MCz97owFCkE8"
    },
    {
      "cell_type": "code",
      "metadata": {
        "id": "Rbu3oW0RCisL"
      },
      "source": [
        "def simplified_mccall_model(w_grid,h0,f,c,β,err_tol=1e-10,max_iter = 10000):\n",
        "    # solves the McCall model on a given grid, initial guess V0,\n",
        "    # discrete density of the wage offer distribution f defined on the grid,\n",
        "    # unemployment compensation c, and time preference parameter β\n",
        "    # store first num_iter of the value function iterations, and iterate until precision is reached or\n",
        "    # max_iter is reached\n",
        "    \n",
        "    h = h0                                    # initial value of h\n",
        "    V_a = w_grid/(1-β)                        # value of accepting\n",
        "    h_iter = np.zeros(num_iter)\n",
        "    h= np.sum(w_grid*f)/(1-β)\n",
        "    h_next = np.empty_like(h)\n",
        "\n",
        "    i = 0\n",
        "    err = err_tol + 1\n",
        "    while i < max_iter and err > err_tol:     # iterate until tolerance or maximum iterations are reached   \n",
        "        s= np.maximum(w_grid/(1-β),h)                          \n",
        "        h_next= c+β*np.sum(s*f)            # next period value of h.\n",
        "        err = np.max(np.abs(h_next-h))    # compute distance between V_cur and V_next\n",
        "        h = h_next\n",
        "        i = i + 1\n",
        "    h = h_next\n",
        "    wbar = (1-β)*h                            # store reservation wage\n",
        "    return h,wbar"
      ],
      "id": "Rbu3oW0RCisL",
      "execution_count": 63,
      "outputs": []
    },
    {
      "cell_type": "markdown",
      "metadata": {
        "id": "gnJyq3S5E8uv"
      },
      "source": [
        "Now we print"
      ],
      "id": "gnJyq3S5E8uv"
    },
    {
      "cell_type": "code",
      "metadata": {
        "colab": {
          "base_uri": "https://localhost:8080/"
        },
        "id": "VuKI_1rUEynQ",
        "outputId": "f9ebb2c2-c55e-4108-dca1-5a1d59d53418"
      },
      "source": [
        "import time \n",
        "\n",
        "start_full=time.time() # records starting time \n",
        "V,wbar_full,V_iter = mccall_model(w_grid=w_grid,V0=V0,f=f_grid,c=c,β=β,num_iter=num_iter,err_tol=err_tol)\n",
        "elapsed_full = time.time()-start_full # returns elapsed time\n",
        "print('value of full: {}'.format(wbar_full))\n",
        "print('Full took {} to run'.format(elapsed_full))\n",
        "\n",
        "\n",
        "start_simplified=time.time() # records starting time \n",
        "h,wbar=simplified_mccall_model(w_grid=w_grid,h0=np.zeros(1),f=f_grid,c=c,β=β)\n",
        "elapsed = time.time()-start_simplified # returns elapsed time\n",
        "print(wbar)\n",
        "start_simplified=time.time()\n",
        "h,wbar=simplified_mccall_model(w_grid=w_grid,h0=0,f=f_grid,c=c,β=β)\n",
        "elapsed = time.time()-start_simplified\n",
        "print('value of simplified: {}'.format(wbar))\n",
        "print('Simplified took {} to run'.format(elapsed))\n",
        "\n",
        "\n"
      ],
      "id": "VuKI_1rUEynQ",
      "execution_count": 64,
      "outputs": [
        {
          "output_type": "stream",
          "name": "stdout",
          "text": [
            "value of full: 0.47218291383415734\n",
            "Full took 0.0003025531768798828 to run\n",
            "0.4721829138267586\n",
            "value of simplified: 0.4721829138267586\n",
            "Simplified took 0.00427556037902832 to run\n"
          ]
        }
      ]
    },
    {
      "cell_type": "markdown",
      "metadata": {
        "id": "ALHsqaQMKmlW"
      },
      "source": [
        "Surprisingly the simplified version runs slower slightly. Why? Most likely `np.maximum` is the problem. Not much gain in this problem.\n",
        "\n",
        "Consider the following harder problem:"
      ],
      "id": "ALHsqaQMKmlW"
    },
    {
      "cell_type": "markdown",
      "metadata": {
        "id": "LpdxxLJrBRAB"
      },
      "source": [
        "\n",
        "Wages at each point in time are now given by\n",
        "\n",
        "$$\n",
        "w_t = \\exp(z_t) + y_t\n",
        "$$\n",
        "\n",
        "where\n",
        "\n",
        "$$\n",
        "y_t \\sim \\exp(\\mu + s \\zeta_t)\n",
        "\\quad \\text{and} \\quad\n",
        "z_{t+1} = d + \\rho z_t + \\sigma \\epsilon_{t+1}\n",
        "$$\n",
        "\n",
        "Here $ \\{y_t\\} $ is a transitory component and $ \\{z_t\\} $ is persistent.\n",
        "\n",
        "We assume $ \\{ \\zeta_t \\} $ and $ \\{ \\epsilon_t \\} $ are distributed as IID standard normals.\n",
        "\n",
        "\n",
        "\n",
        "As before, the worker can either\n",
        "\n",
        "1. accept an offer and work permanently at that wage, or  \n",
        "2. take unemployment compensation $ c $ and wait till next period.  \n",
        "\n",
        "The value function must satisfy the following Bellman equation:\n",
        "\n",
        "The value function satisfies the following Bellman equation\n",
        "\n",
        "$$\n",
        "v^*(w, z) =\n",
        "    \\max\n",
        "    \\left\\{\n",
        "        \\frac{u(w)}{1-\\beta}, u(c) + \\beta \\, \\mathbb E[ v^*(w', z')\\mid z]\n",
        "    \\right\\}\n",
        "$$\n",
        "\n",
        "This immediately seems frustrating to solve because we need to calculate the expectation with respect to $w'$ and $z'$. \n",
        "\n",
        "We can simplify this using the trick from before! Let $f$ be the continuation value defined by:\n",
        "\n",
        "$$\n",
        "f^*(z) \\doteq u(c) + \\beta \\, \\mathbb E_z v^*(w', z')\n",
        "$$\n",
        "\n",
        "The Bellman equation can now be written\n",
        "\n",
        "$$\n",
        "v^*(w, z) = \\max \\left\\{ \\frac{u(w)}{1-\\beta}, \\, f^*(z) \\right\\}\n",
        "$$\n",
        "\n",
        "Combining the last two expressions, we see that the continuation value\n",
        "function satisfies\n",
        "\n",
        "$$\n",
        "f^*(z) = u(c) + \\beta \\, \\mathbb {E}_z \\max \\left\\{ \\frac{u(w')}{1-\\beta}, f^*(z') \\right\\}\n",
        "$$\n",
        "\n",
        "We’ll solve this functional equation for $f^*$ by introducing the\n",
        "operator\n",
        "\n",
        "$$\n",
        "Qf(z) = u(c) + \\beta \\, \\mathbb E_z \\max \\left\\{ \\frac{u(w')}{1-\\beta}, f(z') \\right\\}\n",
        "$$\n",
        "\n",
        "By construction, $ f^* $ is a fixed point of $ Q $, e.g. \n",
        "$ Q f^* = f^* $.\n",
        "\n",
        "We can then show similar to in class that $Q$ is a contraction mapping. \n",
        "\n",
        "Now, as before we look for the point where\n",
        "$$\n",
        "\\frac{u(\\bar{w})}{1-\\beta} = f^{*}(z)\n",
        "$$\n",
        "or:\n",
        "\n",
        "$$ \n",
        "\\bar{w} =u^{-1}((1-\\beta) f^{*}(z))\n",
        "$$\n",
        "\n",
        "We assume that $u$ is injective so that it has a well defined inverse. We will also assume that it is the log function so that \n",
        "$$ \n",
        "\\bar{w} =\\exp((1-\\beta) f^{*}(z))\n",
        "$$\n",
        "\n",
        "We take now solve this below. We use monte carlo integration to solve the expectation."
      ],
      "id": "LpdxxLJrBRAB"
    },
    {
      "cell_type": "code",
      "metadata": {
        "id": "1kaEL8j3LArV"
      },
      "source": [
        "## Parameters ##\n",
        "μ=0.0       # transient shock log mean\n",
        "s=1.0       # transient shock log variance\n",
        "d=0.0       # shift coefficient of persistent state\n",
        "ρ=0.9       # correlation coefficient of persistent state\n",
        "σ=0.1       # state volatility\n",
        "β=0.98      # discount factor\n",
        "c=5         # unemployment compensation\n",
        "mc_size = 1000 # number of samples for monte carlo integration\n",
        "grid_size = 100\n",
        "\n",
        "## Set up the grid\n",
        "z_mean = d/(1-ρ)\n",
        "z_sd = np.sqrt(σ / (1 - ρ**2))\n",
        "k = 3  # std devs from mean\n",
        "a, b = z_mean - k * z_sd, z_mean + k * z_sd\n",
        "z_grid = np.linspace(a, b, grid_size)\n",
        "# Draw and store shocks\n",
        "np.random.seed(1234)\n",
        "e_draws = np.random.randn(2, mc_size)\n",
        "\n"
      ],
      "id": "1kaEL8j3LArV",
      "execution_count": 95,
      "outputs": []
    },
    {
      "cell_type": "markdown",
      "metadata": {
        "id": "FcjKy_ZlNqPC"
      },
      "source": [
        "Next we define the Q operator as a function :\n",
        "\n"
      ],
      "id": "FcjKy_ZlNqPC"
    },
    {
      "cell_type": "code",
      "metadata": {
        "colab": {
          "base_uri": "https://localhost:8080/"
        },
        "id": "_StNdn9QNvYN",
        "outputId": "f2459875-39fb-4c39-d04c-94a5b2bbb480"
      },
      "source": [
        "!pip install interpolation # installs interpolation library\n",
        "from interpolation import interp\n",
        "from numba import jit \n",
        "\n",
        "@jit # speeds up code substantially by compiling to C++ and vectorizing automatically\n",
        "def Q(c,f_in, f_out):\n",
        "  \"\"\"\n",
        "  Applies the Q operator, where f_in is f_in and f_out is an array representing Qf\n",
        "  \"\"\"\n",
        "  M = mc_size\n",
        "  for i in range(len(z_grid)):\n",
        "    z= z_grid[i] # takes element of grid\n",
        "    expectation = 0.0\n",
        "    for m in range(M): # number of monte carlo draws\n",
        "        e1, e2 = e_draws[:, m]\n",
        "        z_next = d + ρ * z + σ * e1\n",
        "        go_val = interp(z_grid, f_in, z_next)     # f(z')\n",
        "        y_next = np.exp(μ + s * e2)                  # y' draw\n",
        "        w_next = np.exp(z_next) + y_next             # w' draw\n",
        "        stop_val = np.log(w_next) / (1 - β)\n",
        "        expectation += max(stop_val, go_val)\n",
        "    expectation = expectation / M\n",
        "    f_out[i] = np.log(c) + β * expectation"
      ],
      "id": "_StNdn9QNvYN",
      "execution_count": 96,
      "outputs": [
        {
          "output_type": "stream",
          "name": "stdout",
          "text": [
            "Requirement already satisfied: interpolation in /usr/local/lib/python3.7/dist-packages (2.2.1)\n",
            "Requirement already satisfied: numpy>=1.18.1 in /usr/local/lib/python3.7/dist-packages (from interpolation) (1.19.5)\n",
            "Requirement already satisfied: tempita>=0.5.2 in /usr/local/lib/python3.7/dist-packages (from interpolation) (0.5.2)\n",
            "Requirement already satisfied: numba>=0.47 in /usr/local/lib/python3.7/dist-packages (from interpolation) (0.51.2)\n",
            "Requirement already satisfied: scipy>=1.4.1 in /usr/local/lib/python3.7/dist-packages (from interpolation) (1.4.1)\n",
            "Requirement already satisfied: llvmlite<0.35,>=0.34.0.dev0 in /usr/local/lib/python3.7/dist-packages (from numba>=0.47->interpolation) (0.34.0)\n",
            "Requirement already satisfied: setuptools in /usr/local/lib/python3.7/dist-packages (from numba>=0.47->interpolation) (57.4.0)\n"
          ]
        }
      ]
    },
    {
      "cell_type": "markdown",
      "metadata": {
        "id": "0HqtzDGuO9j1"
      },
      "source": [
        "Now we compute the fixed point of Q\n"
      ],
      "id": "0HqtzDGuO9j1"
    },
    {
      "cell_type": "code",
      "metadata": {
        "id": "PkTAV0d5O_5D"
      },
      "source": [
        "\n",
        "@jit\n",
        "def compute_fixed_point(c=c,tol=1e-4,\n",
        "                        max_iter=1000,):\n",
        "  f_init = f_init = np.full(len(z_grid), np.log(c)) # fills z_grid with np.log(c)\n",
        "  f_out = np.empty_like(f_init)\n",
        "\n",
        "  # Set up loop\n",
        "  f_in = f_init\n",
        "  i = 0\n",
        "  error = tol + 1\n",
        "# loop evaluating Q \n",
        "  while i < max_iter and error > tol:\n",
        "      Q(c,f_in, f_out)\n",
        "      error = np.max(np.abs(f_in - f_out))\n",
        "      i += 1\n",
        "      f_in[:] = f_out\n",
        "  return f_out"
      ],
      "id": "PkTAV0d5O_5D",
      "execution_count": 97,
      "outputs": []
    },
    {
      "cell_type": "code",
      "metadata": {
        "id": "XZcsl6XhPpvp"
      },
      "source": [
        "f_star = compute_fixed_point(c)"
      ],
      "id": "XZcsl6XhPpvp",
      "execution_count": 98,
      "outputs": []
    },
    {
      "cell_type": "code",
      "metadata": {
        "colab": {
          "base_uri": "https://localhost:8080/"
        },
        "id": "BVdCXAueQwjO",
        "outputId": "a0301ad5-f465-44a1-b6e9-68ace97abce3"
      },
      "source": [
        "print(f_star)"
      ],
      "id": "BVdCXAueQwjO",
      "execution_count": 99,
      "outputs": [
        {
          "output_type": "stream",
          "name": "stdout",
          "text": [
            "[104.0308092  104.04446068 104.05845524 104.07272158 104.08726918\n",
            " 104.1021053  104.11723178 104.13265618 104.14838678 104.16443193\n",
            " 104.1808003  104.19750102 104.21454335 104.23193727 104.24969313\n",
            " 104.2678214  104.28633354 104.30524083 104.32455549 104.34429001\n",
            " 104.36445753 104.38507212 104.40614838 104.42770205 104.44974976\n",
            " 104.47230863 104.49539712 104.51903192 104.54322892 104.56804532\n",
            " 104.59350119 104.61957377 104.64628451 104.67365797 104.70172081\n",
            " 104.73049998 104.76002207 104.79035648 104.821605   104.85371783\n",
            " 104.88665286 104.92043451 104.95509336 104.99066714 105.02719917\n",
            " 105.06473626 105.10338305 105.14332791 105.18455304 105.22694631\n",
            " 105.27053918 105.31544794 105.3617824  105.40943832 105.45854781\n",
            " 105.50926166 105.56143904 105.6152054  105.67075958 105.72816475\n",
            " 105.78721917 105.84795184 105.91039281 105.97471779 106.04109738\n",
            " 106.10936974 106.17969685 106.25255605 106.32794362 106.40657285\n",
            " 106.48838284 106.57355419 106.66177397 106.75303413 106.84811572\n",
            " 106.94761277 107.05161591 107.16078323 107.27477972 107.39352178\n",
            " 107.51776739 107.64775511 107.78439267 107.92971534 108.08323671\n",
            " 108.24574712 108.41909458 108.60444893 108.80484379 109.02118589\n",
            " 109.24996332 109.49414619 109.7561733  110.03974366 110.35049085\n",
            " 110.69659984 111.07945082 111.51124093 111.99090614 112.53260415]\n"
          ]
        }
      ]
    },
    {
      "cell_type": "markdown",
      "metadata": {
        "id": "LoiozHX2Q5pk"
      },
      "source": [
        "Now we plot"
      ],
      "id": "LoiozHX2Q5pk"
    },
    {
      "cell_type": "code",
      "metadata": {
        "colab": {
          "base_uri": "https://localhost:8080/",
          "height": 388
        },
        "id": "XIoHYBqiQyHh",
        "outputId": "7ab6dd07-16dd-4850-ad79-73f7251f29c2"
      },
      "source": [
        "res_wage_function = np.exp(f_star * (1 - β))\n",
        "\n",
        "fig, ax = plt.subplots()\n",
        "ax.plot(z_grid, res_wage_function, label=\"reservation wage given $z$\")\n",
        "ax.set(xlabel=\"$z$\", ylabel=\"wage\")\n",
        "ax.legend()\n",
        "plt.show()"
      ],
      "id": "XIoHYBqiQyHh",
      "execution_count": 100,
      "outputs": [
        {
          "output_type": "display_data",
          "data": {
            "image/png": "[encoded data removed]",
            "text/plain": [
              "<Figure size 720x432 with 1 Axes>"
            ]
          },
          "metadata": {
            "needs_background": "light"
          }
        }
      ]
    },
    {
      "cell_type": "markdown",
      "metadata": {
        "id": "KhVvis9dRC7s"
      },
      "source": [
        "We can also see how changing unemployment compensation changes the model\n"
      ],
      "id": "KhVvis9dRC7s"
    },
    {
      "cell_type": "code",
      "metadata": {
        "id": "FZbott2ZR0nY",
        "outputId": "8067816f-0957-4246-80a4-fccdfb57f1f8",
        "colab": {
          "base_uri": "https://localhost:8080/",
          "height": 388
        }
      },
      "source": [
        "c_vals = 1, 2, 3\n",
        "\n",
        "fig, ax = plt.subplots()\n",
        "\n",
        "for c in c_vals:\n",
        "    c=c\n",
        "    f_star = compute_fixed_point(c)\n",
        "    res_wage_function = np.exp(f_star * (1 - β))\n",
        "    ax.plot(z_grid, res_wage_function, label=rf\"$\\bar w$ at $c = {c}$\")\n",
        "\n",
        "ax.set(xlabel=\"$z$\", ylabel=\"wage\")\n",
        "ax.legend()\n",
        "plt.show()"
      ],
      "id": "FZbott2ZR0nY",
      "execution_count": 101,
      "outputs": [
        {
          "output_type": "display_data",
          "data": {
            "image/png": "[encoded data removed]",
            "text/plain": [
              "<Figure size 720x432 with 1 Axes>"
            ]
          },
          "metadata": {
            "needs_background": "light"
          }
        }
      ]
    }
  ]
}